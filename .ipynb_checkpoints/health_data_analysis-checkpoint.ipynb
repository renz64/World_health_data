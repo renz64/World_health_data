{
 "cells": [
  {
   "cell_type": "markdown",
   "metadata": {},
   "source": [
    "\n",
    "# Project: Analysis of health expenditure economics around the world.\n",
    "\n",
    "## Table of Contents\n",
    "<ul>\n",
    "<li><a href=\"#intro\">Introduction</a></li>\n",
    "<li><a href=\"#wrangling\">Data Wrangling</a></li>\n",
    "<li><a href=\"#eda\">Exploratory Data Analysis</a></li>\n",
    "<li><a href=\"#conclusions\">Conclusions</a></li>\n",
    "</ul>"
   ]
  },
  {
   "cell_type": "markdown",
   "metadata": {},
   "source": [
    "<a id='intro'></a>\n",
    "## Introduction\n",
    "\n",
    "I am Renjini Ramadasan Nair. This is a data analysis project I have written in Python using Numpy, Pandas, Matplotlib and Scikit-learn. This project analyzes the health expenditure statistics across the world, from 1995 to 2010. The data were taken from the Gapminder Health Economics datasets https://www.gapminder.org/data/. The datasets for the percentage contributions from the government and private insurance companies (which includes the individual out-of-pocket), the per person governement expediture and the governmental healthcare input (as a percentage of total government spending) were downloaded. \n",
    "\n",
    "The relevant questions based on preliminary data analysis are as follows: \n",
    "\n",
    "1) Has the percentage of government contribution to healthcare changed in the 16 years? <br>\n",
    "2) How do different countries handle health care expenditure? <br>\n",
    "3) Is the government contribution (percentage and per person) higher in the developed countries? <br>\n",
    "4) Of the total government expenditure, does the healthcare cost differ between developed countries and the rest? Has it changed over the years? <br>\n",
    "\n",
    "The countries were classified into developed and rest as per the World Factbook by CIA (based on 2010-GDP per capita) [https://www.cia.gov/library/publications/the-world-factbook/appendix/appendix-b.html], and the trends characterized. The contribution by the government was further correlated with countries's health expenditure per person and total government expenditure. \n"
   ]
  },
  {
   "cell_type": "code",
   "execution_count": 48,
   "metadata": {},
   "outputs": [],
   "source": [
    "import numpy as np\n",
    "import pandas as pd\n",
    "import matplotlib.pyplot as plt\n",
    "import matplotlib.patches as mpatches\n",
    "import statsmodels.api as sm\n",
    "from sklearn.linear_model import LogisticRegression\n",
    "from sklearn.metrics import confusion_matrix, precision_score, recall_score, accuracy_score\n",
    "from sklearn.model_selection import train_test_split\n",
    "%matplotlib inline"
   ]
  },
  {
   "cell_type": "markdown",
   "metadata": {},
   "source": [
    "<a id='wrangling'></a>\n",
    "## Data Wrangling\n",
    "\n",
    "### General Properties\n",
    "\n",
    "#### The dataframe names relate to actual data as follows:\n",
    "\n",
    "private_share: The percentage shared by the private entitiies (insurance companies and pateints/families). <br>\n",
    "gov_share: The percentage of health expenditure contributed by the government. <br>\n",
    "gov_per_person: The average government spending per person for the year, in international dollars. <br>\n",
    "gov_expenditure: The health care expenditure by the government as a percentage of the total expenditure per year. <br>\n",
    "developed: List of developed countries. <br>\n",
    "\n"
   ]
  },
  {
   "cell_type": "code",
   "execution_count": 51,
   "metadata": {},
   "outputs": [],
   "source": [
    "# Load the data \n",
    "\n",
    "private_share = pd.read_csv('private_share_of_total_health_spending_percent.csv')\n",
    "gov_share = pd.read_csv('government_share_of_total_health_spending_percent.csv')\n",
    "gov_per_person = pd.read_csv('government_health_spending_per_person_international_dollar.csv')\n",
    "gov_expenditure = pd.read_csv('government_health_spending_of_total_gov_spending_percent.csv')\n",
    "developed = pd.read_csv('developed.csv')"
   ]
  },
  {
   "cell_type": "code",
   "execution_count": 52,
   "metadata": {},
   "outputs": [
    {
     "name": "stdout",
     "output_type": "stream",
     "text": [
      "<class 'pandas.core.frame.DataFrame'>\n",
      "RangeIndex: 190 entries, 0 to 189\n",
      "Data columns (total 17 columns):\n",
      "geo     190 non-null object\n",
      "1995    187 non-null float64\n",
      "1996    188 non-null float64\n",
      "1997    188 non-null float64\n",
      "1998    189 non-null float64\n",
      "1999    189 non-null float64\n",
      "2000    189 non-null float64\n",
      "2001    189 non-null float64\n",
      "2002    188 non-null float64\n",
      "2003    188 non-null float64\n",
      "2004    188 non-null float64\n",
      "2005    188 non-null float64\n",
      "2006    188 non-null float64\n",
      "2007    188 non-null float64\n",
      "2008    188 non-null float64\n",
      "2009    188 non-null float64\n",
      "2010    185 non-null float64\n",
      "dtypes: float64(16), object(1)\n",
      "memory usage: 25.3+ KB\n"
     ]
    }
   ],
   "source": [
    "# Check the data for missing values or other formatting to be fixed.\n",
    "\n",
    "private_share.info()\n",
    "# gov_share.info()\n",
    "# gov_per_person.info()\n",
    "# gov_expenditure.info()\n",
    "#private_share.head()"
   ]
  },
  {
   "cell_type": "markdown",
   "metadata": {},
   "source": [
    "There are 190 rows and 17 columns for each of the expenditure dataframes. All have a few missing values, which need to be cleaned. The dataframes also need to be merged to make the analyses easier. The developed countries's list is a clean dataframe, which needs to be integrated as a Yes/No column to the final dataframe.  "
   ]
  },
  {
   "cell_type": "code",
   "execution_count": 53,
   "metadata": {},
   "outputs": [
    {
     "data": {
      "text/html": [
       "<div>\n",
       "<style scoped>\n",
       "    .dataframe tbody tr th:only-of-type {\n",
       "        vertical-align: middle;\n",
       "    }\n",
       "\n",
       "    .dataframe tbody tr th {\n",
       "        vertical-align: top;\n",
       "    }\n",
       "\n",
       "    .dataframe thead th {\n",
       "        text-align: right;\n",
       "    }\n",
       "</style>\n",
       "<table border=\"1\" class=\"dataframe\">\n",
       "  <thead>\n",
       "    <tr style=\"text-align: right;\">\n",
       "      <th></th>\n",
       "      <th>geo</th>\n",
       "      <th>1995</th>\n",
       "      <th>1996</th>\n",
       "      <th>1997</th>\n",
       "      <th>1998</th>\n",
       "      <th>1999</th>\n",
       "      <th>2000</th>\n",
       "      <th>2001</th>\n",
       "      <th>2002</th>\n",
       "      <th>2003</th>\n",
       "      <th>2004</th>\n",
       "      <th>2005</th>\n",
       "      <th>2006</th>\n",
       "      <th>2007</th>\n",
       "      <th>2008</th>\n",
       "      <th>2009</th>\n",
       "      <th>2010</th>\n",
       "    </tr>\n",
       "  </thead>\n",
       "  <tbody>\n",
       "    <tr>\n",
       "      <th>1</th>\n",
       "      <td>Albania</td>\n",
       "      <td>50.0</td>\n",
       "      <td>39.6</td>\n",
       "      <td>39.2</td>\n",
       "      <td>39.5</td>\n",
       "      <td>43.3</td>\n",
       "      <td>36.1</td>\n",
       "      <td>38.2</td>\n",
       "      <td>36.1</td>\n",
       "      <td>35.9</td>\n",
       "      <td>39.7</td>\n",
       "      <td>40.2</td>\n",
       "      <td>39.4</td>\n",
       "      <td>38.2</td>\n",
       "      <td>39.6</td>\n",
       "      <td>41.2</td>\n",
       "      <td>39.0</td>\n",
       "    </tr>\n",
       "    <tr>\n",
       "      <th>2</th>\n",
       "      <td>Algeria</td>\n",
       "      <td>75.4</td>\n",
       "      <td>77.6</td>\n",
       "      <td>74.3</td>\n",
       "      <td>73.8</td>\n",
       "      <td>72.8</td>\n",
       "      <td>73.3</td>\n",
       "      <td>77.4</td>\n",
       "      <td>77.3</td>\n",
       "      <td>78.7</td>\n",
       "      <td>71.1</td>\n",
       "      <td>72.1</td>\n",
       "      <td>74.4</td>\n",
       "      <td>77.3</td>\n",
       "      <td>79.5</td>\n",
       "      <td>79.3</td>\n",
       "      <td>77.9</td>\n",
       "    </tr>\n",
       "    <tr>\n",
       "      <th>3</th>\n",
       "      <td>Andorra</td>\n",
       "      <td>64.4</td>\n",
       "      <td>65.2</td>\n",
       "      <td>66.2</td>\n",
       "      <td>72.0</td>\n",
       "      <td>66.2</td>\n",
       "      <td>64.8</td>\n",
       "      <td>68.8</td>\n",
       "      <td>68.8</td>\n",
       "      <td>68.6</td>\n",
       "      <td>69.2</td>\n",
       "      <td>69.1</td>\n",
       "      <td>70.4</td>\n",
       "      <td>69.8</td>\n",
       "      <td>69.9</td>\n",
       "      <td>70.1</td>\n",
       "      <td>70.1</td>\n",
       "    </tr>\n",
       "    <tr>\n",
       "      <th>4</th>\n",
       "      <td>Angola</td>\n",
       "      <td>86.8</td>\n",
       "      <td>76.9</td>\n",
       "      <td>77.9</td>\n",
       "      <td>73.0</td>\n",
       "      <td>74.2</td>\n",
       "      <td>79.2</td>\n",
       "      <td>85.5</td>\n",
       "      <td>78.8</td>\n",
       "      <td>81.1</td>\n",
       "      <td>76.0</td>\n",
       "      <td>74.5</td>\n",
       "      <td>79.3</td>\n",
       "      <td>80.2</td>\n",
       "      <td>84.3</td>\n",
       "      <td>89.9</td>\n",
       "      <td>82.5</td>\n",
       "    </tr>\n",
       "    <tr>\n",
       "      <th>5</th>\n",
       "      <td>Antigua and Barbuda</td>\n",
       "      <td>66.5</td>\n",
       "      <td>64.2</td>\n",
       "      <td>66.0</td>\n",
       "      <td>68.0</td>\n",
       "      <td>69.3</td>\n",
       "      <td>69.0</td>\n",
       "      <td>65.5</td>\n",
       "      <td>65.2</td>\n",
       "      <td>64.2</td>\n",
       "      <td>63.4</td>\n",
       "      <td>63.1</td>\n",
       "      <td>65.7</td>\n",
       "      <td>66.4</td>\n",
       "      <td>67.9</td>\n",
       "      <td>67.1</td>\n",
       "      <td>71.0</td>\n",
       "    </tr>\n",
       "  </tbody>\n",
       "</table>\n",
       "</div>"
      ],
      "text/plain": [
       "                   geo  1995  1996  1997  1998  1999  2000  2001  2002  2003  \\\n",
       "1              Albania  50.0  39.6  39.2  39.5  43.3  36.1  38.2  36.1  35.9   \n",
       "2              Algeria  75.4  77.6  74.3  73.8  72.8  73.3  77.4  77.3  78.7   \n",
       "3              Andorra  64.4  65.2  66.2  72.0  66.2  64.8  68.8  68.8  68.6   \n",
       "4               Angola  86.8  76.9  77.9  73.0  74.2  79.2  85.5  78.8  81.1   \n",
       "5  Antigua and Barbuda  66.5  64.2  66.0  68.0  69.3  69.0  65.5  65.2  64.2   \n",
       "\n",
       "   2004  2005  2006  2007  2008  2009  2010  \n",
       "1  39.7  40.2  39.4  38.2  39.6  41.2  39.0  \n",
       "2  71.1  72.1  74.4  77.3  79.5  79.3  77.9  \n",
       "3  69.2  69.1  70.4  69.8  69.9  70.1  70.1  \n",
       "4  76.0  74.5  79.3  80.2  84.3  89.9  82.5  \n",
       "5  63.4  63.1  65.7  66.4  67.9  67.1  71.0  "
      ]
     },
     "execution_count": 53,
     "metadata": {},
     "output_type": "execute_result"
    }
   ],
   "source": [
    "# Drop rows with missing values\n",
    "private_share.dropna(inplace = True, axis = 0)\n",
    "gov_share.dropna(inplace = True, axis = 0)\n",
    "gov_per_person.dropna(inplace = True, axis = 0)\n",
    "gov_expenditure.dropna(inplace = True, axis = 0)\n",
    "gov_share.head()"
   ]
  },
  {
   "cell_type": "code",
   "execution_count": 54,
   "metadata": {},
   "outputs": [
    {
     "data": {
      "text/plain": [
       "0"
      ]
     },
     "execution_count": 54,
     "metadata": {},
     "output_type": "execute_result"
    }
   ],
   "source": [
    "# Check whether there are duplicate rows.\n",
    "sum(gov_share.duplicated())"
   ]
  },
  {
   "cell_type": "code",
   "execution_count": 55,
   "metadata": {},
   "outputs": [
    {
     "data": {
      "text/plain": [
       "True"
      ]
     },
     "execution_count": 55,
     "metadata": {},
     "output_type": "execute_result"
    }
   ],
   "source": [
    "# Check whether the rows are similar between the dataframes.\n",
    "private_share.columns[0] == gov_share.columns[0] == gov_per_person.columns[0] == gov_expenditure.columns[0]"
   ]
  },
  {
   "cell_type": "code",
   "execution_count": 56,
   "metadata": {},
   "outputs": [
    {
     "data": {
      "text/plain": [
       "(182, 17)"
      ]
     },
     "execution_count": 56,
     "metadata": {},
     "output_type": "execute_result"
    }
   ],
   "source": [
    "gov_share.shape"
   ]
  },
  {
   "cell_type": "markdown",
   "metadata": {},
   "source": [
    "<a id='eda'></a>\n",
    "## Exploratory Data Analysis\n",
    "\n",
    "### Q1. Has the percentage of government contribution to healthcare changed in the 16 years? "
   ]
  },
  {
   "cell_type": "code",
   "execution_count": 57,
   "metadata": {},
   "outputs": [],
   "source": [
    "# Take a global average for every year and create a bar plot.\n",
    "gov_annual_avg = gov_share.iloc[:, 1:17].mean()\n",
    "gov_annual_avgerr = gov_share.iloc[:, 1:17].sem()"
   ]
  },
  {
   "cell_type": "code",
   "execution_count": 58,
   "metadata": {},
   "outputs": [
    {
     "data": {
      "image/png": "[encoded data removed]",
      "text/plain": [
       "<Figure size 720x360 with 1 Axes>"
      ]
     },
     "metadata": {},
     "output_type": "display_data"
    }
   ],
   "source": [
    "f, ax = plt.subplots(figsize=(10,5))\n",
    "fig1 = plt.bar(gov_share.columns[1:17], gov_annual_avg, yerr = gov_annual_avgerr)\n",
    "plt.xlabel ('Year')\n",
    "plt.ylabel('% of Govt Health Share')\n",
    "plt.title('Global percentage contribution by the governments towards health care')\n",
    "fig1;\n"
   ]
  },
  {
   "cell_type": "markdown",
   "metadata": {},
   "source": [
    "There does not seem to be a significant variation in the global average health share contribution by the government over the years."
   ]
  },
  {
   "cell_type": "markdown",
   "metadata": {},
   "source": [
    "### Q2. How do different countries handle health care expenditure?"
   ]
  },
  {
   "cell_type": "code",
   "execution_count": 59,
   "metadata": {},
   "outputs": [
    {
     "data": {
      "text/html": [
       "<div>\n",
       "<style scoped>\n",
       "    .dataframe tbody tr th:only-of-type {\n",
       "        vertical-align: middle;\n",
       "    }\n",
       "\n",
       "    .dataframe tbody tr th {\n",
       "        vertical-align: top;\n",
       "    }\n",
       "\n",
       "    .dataframe thead th {\n",
       "        text-align: right;\n",
       "    }\n",
       "</style>\n",
       "<table border=\"1\" class=\"dataframe\">\n",
       "  <thead>\n",
       "    <tr style=\"text-align: right;\">\n",
       "      <th></th>\n",
       "      <th>geo</th>\n",
       "      <th>1995</th>\n",
       "      <th>1996</th>\n",
       "      <th>1997</th>\n",
       "      <th>1998</th>\n",
       "      <th>1999</th>\n",
       "      <th>2000</th>\n",
       "      <th>2001</th>\n",
       "      <th>2002</th>\n",
       "      <th>2003</th>\n",
       "      <th>2004</th>\n",
       "      <th>2005</th>\n",
       "      <th>2006</th>\n",
       "      <th>2007</th>\n",
       "      <th>2008</th>\n",
       "      <th>2009</th>\n",
       "      <th>2010</th>\n",
       "      <th>mean_gov</th>\n",
       "    </tr>\n",
       "  </thead>\n",
       "  <tbody>\n",
       "    <tr>\n",
       "      <th>1</th>\n",
       "      <td>Albania</td>\n",
       "      <td>50.0</td>\n",
       "      <td>39.6</td>\n",
       "      <td>39.2</td>\n",
       "      <td>39.5</td>\n",
       "      <td>43.3</td>\n",
       "      <td>36.1</td>\n",
       "      <td>38.2</td>\n",
       "      <td>36.1</td>\n",
       "      <td>35.9</td>\n",
       "      <td>39.7</td>\n",
       "      <td>40.2</td>\n",
       "      <td>39.4</td>\n",
       "      <td>38.2</td>\n",
       "      <td>39.6</td>\n",
       "      <td>41.2</td>\n",
       "      <td>39.0</td>\n",
       "      <td>39.70000</td>\n",
       "    </tr>\n",
       "    <tr>\n",
       "      <th>2</th>\n",
       "      <td>Algeria</td>\n",
       "      <td>75.4</td>\n",
       "      <td>77.6</td>\n",
       "      <td>74.3</td>\n",
       "      <td>73.8</td>\n",
       "      <td>72.8</td>\n",
       "      <td>73.3</td>\n",
       "      <td>77.4</td>\n",
       "      <td>77.3</td>\n",
       "      <td>78.7</td>\n",
       "      <td>71.1</td>\n",
       "      <td>72.1</td>\n",
       "      <td>74.4</td>\n",
       "      <td>77.3</td>\n",
       "      <td>79.5</td>\n",
       "      <td>79.3</td>\n",
       "      <td>77.9</td>\n",
       "      <td>75.76250</td>\n",
       "    </tr>\n",
       "    <tr>\n",
       "      <th>3</th>\n",
       "      <td>Andorra</td>\n",
       "      <td>64.4</td>\n",
       "      <td>65.2</td>\n",
       "      <td>66.2</td>\n",
       "      <td>72.0</td>\n",
       "      <td>66.2</td>\n",
       "      <td>64.8</td>\n",
       "      <td>68.8</td>\n",
       "      <td>68.8</td>\n",
       "      <td>68.6</td>\n",
       "      <td>69.2</td>\n",
       "      <td>69.1</td>\n",
       "      <td>70.4</td>\n",
       "      <td>69.8</td>\n",
       "      <td>69.9</td>\n",
       "      <td>70.1</td>\n",
       "      <td>70.1</td>\n",
       "      <td>68.35000</td>\n",
       "    </tr>\n",
       "    <tr>\n",
       "      <th>4</th>\n",
       "      <td>Angola</td>\n",
       "      <td>86.8</td>\n",
       "      <td>76.9</td>\n",
       "      <td>77.9</td>\n",
       "      <td>73.0</td>\n",
       "      <td>74.2</td>\n",
       "      <td>79.2</td>\n",
       "      <td>85.5</td>\n",
       "      <td>78.8</td>\n",
       "      <td>81.1</td>\n",
       "      <td>76.0</td>\n",
       "      <td>74.5</td>\n",
       "      <td>79.3</td>\n",
       "      <td>80.2</td>\n",
       "      <td>84.3</td>\n",
       "      <td>89.9</td>\n",
       "      <td>82.5</td>\n",
       "      <td>80.00625</td>\n",
       "    </tr>\n",
       "    <tr>\n",
       "      <th>5</th>\n",
       "      <td>Antigua and Barbuda</td>\n",
       "      <td>66.5</td>\n",
       "      <td>64.2</td>\n",
       "      <td>66.0</td>\n",
       "      <td>68.0</td>\n",
       "      <td>69.3</td>\n",
       "      <td>69.0</td>\n",
       "      <td>65.5</td>\n",
       "      <td>65.2</td>\n",
       "      <td>64.2</td>\n",
       "      <td>63.4</td>\n",
       "      <td>63.1</td>\n",
       "      <td>65.7</td>\n",
       "      <td>66.4</td>\n",
       "      <td>67.9</td>\n",
       "      <td>67.1</td>\n",
       "      <td>71.0</td>\n",
       "      <td>66.40625</td>\n",
       "    </tr>\n",
       "  </tbody>\n",
       "</table>\n",
       "</div>"
      ],
      "text/plain": [
       "                   geo  1995  1996  1997  1998  1999  2000  2001  2002  2003  \\\n",
       "1              Albania  50.0  39.6  39.2  39.5  43.3  36.1  38.2  36.1  35.9   \n",
       "2              Algeria  75.4  77.6  74.3  73.8  72.8  73.3  77.4  77.3  78.7   \n",
       "3              Andorra  64.4  65.2  66.2  72.0  66.2  64.8  68.8  68.8  68.6   \n",
       "4               Angola  86.8  76.9  77.9  73.0  74.2  79.2  85.5  78.8  81.1   \n",
       "5  Antigua and Barbuda  66.5  64.2  66.0  68.0  69.3  69.0  65.5  65.2  64.2   \n",
       "\n",
       "   2004  2005  2006  2007  2008  2009  2010  mean_gov  \n",
       "1  39.7  40.2  39.4  38.2  39.6  41.2  39.0  39.70000  \n",
       "2  71.1  72.1  74.4  77.3  79.5  79.3  77.9  75.76250  \n",
       "3  69.2  69.1  70.4  69.8  69.9  70.1  70.1  68.35000  \n",
       "4  76.0  74.5  79.3  80.2  84.3  89.9  82.5  80.00625  \n",
       "5  63.4  63.1  65.7  66.4  67.9  67.1  71.0  66.40625  "
      ]
     },
     "execution_count": 59,
     "metadata": {},
     "output_type": "execute_result"
    }
   ],
   "source": [
    "# Write a function to calculate the mean and standard error for each country, over the years.\n",
    "def col_mean(mean, df):\n",
    "    for col in df.columns:\n",
    "        df[mean] = df.iloc[: , 1:17].mean(axis=1)\n",
    "col_mean('mean_gov', gov_share)\n",
    "gov_share.head()"
   ]
  },
  {
   "cell_type": "code",
   "execution_count": 60,
   "metadata": {},
   "outputs": [
    {
     "data": {
      "text/html": [
       "<div>\n",
       "<style scoped>\n",
       "    .dataframe tbody tr th:only-of-type {\n",
       "        vertical-align: middle;\n",
       "    }\n",
       "\n",
       "    .dataframe tbody tr th {\n",
       "        vertical-align: top;\n",
       "    }\n",
       "\n",
       "    .dataframe thead th {\n",
       "        text-align: right;\n",
       "    }\n",
       "</style>\n",
       "<table border=\"1\" class=\"dataframe\">\n",
       "  <thead>\n",
       "    <tr style=\"text-align: right;\">\n",
       "      <th></th>\n",
       "      <th>geo</th>\n",
       "      <th>1995</th>\n",
       "      <th>1996</th>\n",
       "      <th>1997</th>\n",
       "      <th>1998</th>\n",
       "      <th>1999</th>\n",
       "      <th>2000</th>\n",
       "      <th>2001</th>\n",
       "      <th>2002</th>\n",
       "      <th>2003</th>\n",
       "      <th>2004</th>\n",
       "      <th>2005</th>\n",
       "      <th>2006</th>\n",
       "      <th>2007</th>\n",
       "      <th>2008</th>\n",
       "      <th>2009</th>\n",
       "      <th>2010</th>\n",
       "      <th>mean_private</th>\n",
       "    </tr>\n",
       "  </thead>\n",
       "  <tbody>\n",
       "    <tr>\n",
       "      <th>1</th>\n",
       "      <td>Albania</td>\n",
       "      <td>50.0</td>\n",
       "      <td>60.4</td>\n",
       "      <td>60.8</td>\n",
       "      <td>60.5</td>\n",
       "      <td>56.7</td>\n",
       "      <td>63.9</td>\n",
       "      <td>61.8</td>\n",
       "      <td>63.9</td>\n",
       "      <td>64.1</td>\n",
       "      <td>60.3</td>\n",
       "      <td>59.8</td>\n",
       "      <td>60.6</td>\n",
       "      <td>61.8</td>\n",
       "      <td>60.4</td>\n",
       "      <td>58.8</td>\n",
       "      <td>61.0</td>\n",
       "      <td>60.30000</td>\n",
       "    </tr>\n",
       "    <tr>\n",
       "      <th>2</th>\n",
       "      <td>Algeria</td>\n",
       "      <td>24.6</td>\n",
       "      <td>22.4</td>\n",
       "      <td>25.6</td>\n",
       "      <td>26.2</td>\n",
       "      <td>27.1</td>\n",
       "      <td>26.7</td>\n",
       "      <td>22.6</td>\n",
       "      <td>22.7</td>\n",
       "      <td>21.3</td>\n",
       "      <td>28.9</td>\n",
       "      <td>27.9</td>\n",
       "      <td>25.6</td>\n",
       "      <td>22.7</td>\n",
       "      <td>20.5</td>\n",
       "      <td>20.7</td>\n",
       "      <td>22.1</td>\n",
       "      <td>24.22500</td>\n",
       "    </tr>\n",
       "    <tr>\n",
       "      <th>3</th>\n",
       "      <td>Andorra</td>\n",
       "      <td>35.6</td>\n",
       "      <td>34.8</td>\n",
       "      <td>33.8</td>\n",
       "      <td>28.0</td>\n",
       "      <td>33.9</td>\n",
       "      <td>35.2</td>\n",
       "      <td>31.3</td>\n",
       "      <td>31.2</td>\n",
       "      <td>31.4</td>\n",
       "      <td>30.8</td>\n",
       "      <td>30.9</td>\n",
       "      <td>29.6</td>\n",
       "      <td>30.2</td>\n",
       "      <td>30.1</td>\n",
       "      <td>29.9</td>\n",
       "      <td>29.9</td>\n",
       "      <td>31.66250</td>\n",
       "    </tr>\n",
       "    <tr>\n",
       "      <th>4</th>\n",
       "      <td>Angola</td>\n",
       "      <td>13.2</td>\n",
       "      <td>23.1</td>\n",
       "      <td>22.1</td>\n",
       "      <td>26.9</td>\n",
       "      <td>25.8</td>\n",
       "      <td>20.8</td>\n",
       "      <td>14.5</td>\n",
       "      <td>21.1</td>\n",
       "      <td>18.9</td>\n",
       "      <td>24.0</td>\n",
       "      <td>25.5</td>\n",
       "      <td>20.7</td>\n",
       "      <td>19.8</td>\n",
       "      <td>15.7</td>\n",
       "      <td>10.1</td>\n",
       "      <td>17.5</td>\n",
       "      <td>19.98125</td>\n",
       "    </tr>\n",
       "    <tr>\n",
       "      <th>5</th>\n",
       "      <td>Antigua and Barbuda</td>\n",
       "      <td>33.5</td>\n",
       "      <td>35.8</td>\n",
       "      <td>34.0</td>\n",
       "      <td>32.0</td>\n",
       "      <td>30.7</td>\n",
       "      <td>31.0</td>\n",
       "      <td>34.5</td>\n",
       "      <td>34.8</td>\n",
       "      <td>35.8</td>\n",
       "      <td>36.6</td>\n",
       "      <td>36.9</td>\n",
       "      <td>34.3</td>\n",
       "      <td>33.6</td>\n",
       "      <td>32.1</td>\n",
       "      <td>32.9</td>\n",
       "      <td>29.0</td>\n",
       "      <td>33.59375</td>\n",
       "    </tr>\n",
       "  </tbody>\n",
       "</table>\n",
       "</div>"
      ],
      "text/plain": [
       "                   geo  1995  1996  1997  1998  1999  2000  2001  2002  2003  \\\n",
       "1              Albania  50.0  60.4  60.8  60.5  56.7  63.9  61.8  63.9  64.1   \n",
       "2              Algeria  24.6  22.4  25.6  26.2  27.1  26.7  22.6  22.7  21.3   \n",
       "3              Andorra  35.6  34.8  33.8  28.0  33.9  35.2  31.3  31.2  31.4   \n",
       "4               Angola  13.2  23.1  22.1  26.9  25.8  20.8  14.5  21.1  18.9   \n",
       "5  Antigua and Barbuda  33.5  35.8  34.0  32.0  30.7  31.0  34.5  34.8  35.8   \n",
       "\n",
       "   2004  2005  2006  2007  2008  2009  2010  mean_private  \n",
       "1  60.3  59.8  60.6  61.8  60.4  58.8  61.0      60.30000  \n",
       "2  28.9  27.9  25.6  22.7  20.5  20.7  22.1      24.22500  \n",
       "3  30.8  30.9  29.6  30.2  30.1  29.9  29.9      31.66250  \n",
       "4  24.0  25.5  20.7  19.8  15.7  10.1  17.5      19.98125  \n",
       "5  36.6  36.9  34.3  33.6  32.1  32.9  29.0      33.59375  "
      ]
     },
     "execution_count": 60,
     "metadata": {},
     "output_type": "execute_result"
    }
   ],
   "source": [
    "# Calculate the mean private share percentage for each country, over the years.\n",
    "col_mean('mean_private', private_share)\n",
    "private_share.head()"
   ]
  },
  {
   "cell_type": "code",
   "execution_count": 61,
   "metadata": {},
   "outputs": [
    {
     "data": {
      "text/plain": [
       "True"
      ]
     },
     "execution_count": 61,
     "metadata": {},
     "output_type": "execute_result"
    }
   ],
   "source": [
    "# Check whether the sum of government share and private share is approximately equal to 100 (between 99 and 101).\n",
    "((private_share['mean_private'] + gov_share['mean_gov'] >= 99) | (private_share['mean_private'] + gov_share['mean_gov']<= 101)).any()"
   ]
  },
  {
   "cell_type": "code",
   "execution_count": 62,
   "metadata": {},
   "outputs": [
    {
     "data": {
      "text/html": [
       "<div>\n",
       "<style scoped>\n",
       "    .dataframe tbody tr th:only-of-type {\n",
       "        vertical-align: middle;\n",
       "    }\n",
       "\n",
       "    .dataframe tbody tr th {\n",
       "        vertical-align: top;\n",
       "    }\n",
       "\n",
       "    .dataframe thead th {\n",
       "        text-align: right;\n",
       "    }\n",
       "</style>\n",
       "<table border=\"1\" class=\"dataframe\">\n",
       "  <thead>\n",
       "    <tr style=\"text-align: right;\">\n",
       "      <th></th>\n",
       "      <th>geo</th>\n",
       "      <th>mean_gov</th>\n",
       "      <th>mean_private</th>\n",
       "    </tr>\n",
       "  </thead>\n",
       "  <tbody>\n",
       "    <tr>\n",
       "      <th>0</th>\n",
       "      <td>Albania</td>\n",
       "      <td>39.70000</td>\n",
       "      <td>60.30000</td>\n",
       "    </tr>\n",
       "    <tr>\n",
       "      <th>1</th>\n",
       "      <td>Algeria</td>\n",
       "      <td>75.76250</td>\n",
       "      <td>24.22500</td>\n",
       "    </tr>\n",
       "    <tr>\n",
       "      <th>2</th>\n",
       "      <td>Andorra</td>\n",
       "      <td>68.35000</td>\n",
       "      <td>31.66250</td>\n",
       "    </tr>\n",
       "    <tr>\n",
       "      <th>3</th>\n",
       "      <td>Angola</td>\n",
       "      <td>80.00625</td>\n",
       "      <td>19.98125</td>\n",
       "    </tr>\n",
       "    <tr>\n",
       "      <th>4</th>\n",
       "      <td>Antigua and Barbuda</td>\n",
       "      <td>66.40625</td>\n",
       "      <td>33.59375</td>\n",
       "    </tr>\n",
       "  </tbody>\n",
       "</table>\n",
       "</div>"
      ],
      "text/plain": [
       "                   geo  mean_gov  mean_private\n",
       "0              Albania  39.70000      60.30000\n",
       "1              Algeria  75.76250      24.22500\n",
       "2              Andorra  68.35000      31.66250\n",
       "3               Angola  80.00625      19.98125\n",
       "4  Antigua and Barbuda  66.40625      33.59375"
      ]
     },
     "execution_count": 62,
     "metadata": {},
     "output_type": "execute_result"
    }
   ],
   "source": [
    "# Merge the government and private share dataframes into one, retaining the country and mean columns only.\n",
    "gov = gov_share.drop(gov_share.columns[1:17], axis = 1)\n",
    "# Write a function to left-merge dataframes\n",
    "def dfmerge(left, right, rightcol):\n",
    "    global merged\n",
    "    merged = pd.merge(left, right[['geo', rightcol]], on = 'geo', how = 'left')\n",
    "    return merged\n",
    "dfmerge(gov, private_share, 'mean_private')\n",
    "merged.head()\n"
   ]
  },
  {
   "cell_type": "code",
   "execution_count": 63,
   "metadata": {},
   "outputs": [
    {
     "data": {
      "text/html": [
       "<div>\n",
       "<style scoped>\n",
       "    .dataframe tbody tr th:only-of-type {\n",
       "        vertical-align: middle;\n",
       "    }\n",
       "\n",
       "    .dataframe tbody tr th {\n",
       "        vertical-align: top;\n",
       "    }\n",
       "\n",
       "    .dataframe thead th {\n",
       "        text-align: right;\n",
       "    }\n",
       "</style>\n",
       "<table border=\"1\" class=\"dataframe\">\n",
       "  <thead>\n",
       "    <tr style=\"text-align: right;\">\n",
       "      <th></th>\n",
       "      <th>geo</th>\n",
       "      <th>mean_gov</th>\n",
       "      <th>mean_private</th>\n",
       "      <th>share_ratio</th>\n",
       "    </tr>\n",
       "  </thead>\n",
       "  <tbody>\n",
       "    <tr>\n",
       "      <th>0</th>\n",
       "      <td>Albania</td>\n",
       "      <td>39.70000</td>\n",
       "      <td>60.30000</td>\n",
       "      <td>0.658375</td>\n",
       "    </tr>\n",
       "    <tr>\n",
       "      <th>1</th>\n",
       "      <td>Algeria</td>\n",
       "      <td>75.76250</td>\n",
       "      <td>24.22500</td>\n",
       "      <td>3.127451</td>\n",
       "    </tr>\n",
       "    <tr>\n",
       "      <th>2</th>\n",
       "      <td>Andorra</td>\n",
       "      <td>68.35000</td>\n",
       "      <td>31.66250</td>\n",
       "      <td>2.158705</td>\n",
       "    </tr>\n",
       "    <tr>\n",
       "      <th>3</th>\n",
       "      <td>Angola</td>\n",
       "      <td>80.00625</td>\n",
       "      <td>19.98125</td>\n",
       "      <td>4.004066</td>\n",
       "    </tr>\n",
       "    <tr>\n",
       "      <th>4</th>\n",
       "      <td>Antigua and Barbuda</td>\n",
       "      <td>66.40625</td>\n",
       "      <td>33.59375</td>\n",
       "      <td>1.976744</td>\n",
       "    </tr>\n",
       "  </tbody>\n",
       "</table>\n",
       "</div>"
      ],
      "text/plain": [
       "                   geo  mean_gov  mean_private  share_ratio\n",
       "0              Albania  39.70000      60.30000     0.658375\n",
       "1              Algeria  75.76250      24.22500     3.127451\n",
       "2              Andorra  68.35000      31.66250     2.158705\n",
       "3               Angola  80.00625      19.98125     4.004066\n",
       "4  Antigua and Barbuda  66.40625      33.59375     1.976744"
      ]
     },
     "execution_count": 63,
     "metadata": {},
     "output_type": "execute_result"
    }
   ],
   "source": [
    "# Calculate the ratio of government/private cost share.\n",
    "merged['share_ratio'] = merged['mean_gov']/merged['mean_private']\n",
    "merged.head()"
   ]
  },
  {
   "cell_type": "code",
   "execution_count": 64,
   "metadata": {},
   "outputs": [
    {
     "name": "stdout",
     "output_type": "stream",
     "text": [
      "<class 'pandas.core.frame.DataFrame'>\n",
      "RangeIndex: 33 entries, 0 to 32\n",
      "Data columns (total 1 columns):\n",
      "geo    33 non-null object\n",
      "dtypes: object(1)\n",
      "memory usage: 344.0+ bytes\n"
     ]
    }
   ],
   "source": [
    "#developed.head()\n",
    "developed.info()"
   ]
  },
  {
   "cell_type": "code",
   "execution_count": 65,
   "metadata": {},
   "outputs": [],
   "source": [
    "# Add the column to state whether the country is classified as developed or not\n",
    "merged['developed'] = np.nan\n",
    "devel = developed.geo.tolist()\n",
    "#len(devel)\n",
    "#sum(merged['geo'].isin(devel))\n",
    "merged['developed'] = np.where(merged['geo'].isin(devel), 1, 0)"
   ]
  },
  {
   "cell_type": "code",
   "execution_count": 66,
   "metadata": {},
   "outputs": [
    {
     "data": {
      "text/html": [
       "<div>\n",
       "<style scoped>\n",
       "    .dataframe tbody tr th:only-of-type {\n",
       "        vertical-align: middle;\n",
       "    }\n",
       "\n",
       "    .dataframe tbody tr th {\n",
       "        vertical-align: top;\n",
       "    }\n",
       "\n",
       "    .dataframe thead th {\n",
       "        text-align: right;\n",
       "    }\n",
       "</style>\n",
       "<table border=\"1\" class=\"dataframe\">\n",
       "  <thead>\n",
       "    <tr style=\"text-align: right;\">\n",
       "      <th></th>\n",
       "      <th>geo</th>\n",
       "      <th>mean_gov</th>\n",
       "      <th>mean_private</th>\n",
       "      <th>share_ratio</th>\n",
       "      <th>developed</th>\n",
       "    </tr>\n",
       "  </thead>\n",
       "  <tbody>\n",
       "    <tr>\n",
       "      <th>0</th>\n",
       "      <td>Albania</td>\n",
       "      <td>39.70000</td>\n",
       "      <td>60.30000</td>\n",
       "      <td>0.658375</td>\n",
       "      <td>0</td>\n",
       "    </tr>\n",
       "    <tr>\n",
       "      <th>1</th>\n",
       "      <td>Algeria</td>\n",
       "      <td>75.76250</td>\n",
       "      <td>24.22500</td>\n",
       "      <td>3.127451</td>\n",
       "      <td>0</td>\n",
       "    </tr>\n",
       "    <tr>\n",
       "      <th>2</th>\n",
       "      <td>Andorra</td>\n",
       "      <td>68.35000</td>\n",
       "      <td>31.66250</td>\n",
       "      <td>2.158705</td>\n",
       "      <td>0</td>\n",
       "    </tr>\n",
       "    <tr>\n",
       "      <th>3</th>\n",
       "      <td>Angola</td>\n",
       "      <td>80.00625</td>\n",
       "      <td>19.98125</td>\n",
       "      <td>4.004066</td>\n",
       "      <td>0</td>\n",
       "    </tr>\n",
       "    <tr>\n",
       "      <th>4</th>\n",
       "      <td>Antigua and Barbuda</td>\n",
       "      <td>66.40625</td>\n",
       "      <td>33.59375</td>\n",
       "      <td>1.976744</td>\n",
       "      <td>0</td>\n",
       "    </tr>\n",
       "  </tbody>\n",
       "</table>\n",
       "</div>"
      ],
      "text/plain": [
       "                   geo  mean_gov  mean_private  share_ratio  developed\n",
       "0              Albania  39.70000      60.30000     0.658375          0\n",
       "1              Algeria  75.76250      24.22500     3.127451          0\n",
       "2              Andorra  68.35000      31.66250     2.158705          0\n",
       "3               Angola  80.00625      19.98125     4.004066          0\n",
       "4  Antigua and Barbuda  66.40625      33.59375     1.976744          0"
      ]
     },
     "execution_count": 66,
     "metadata": {},
     "output_type": "execute_result"
    }
   ],
   "source": [
    "# Remove one country with a very high ratio\n",
    "merged = merged[merged['share_ratio']< 100]\n",
    "merged.head()"
   ]
  },
  {
   "cell_type": "code",
   "execution_count": 67,
   "metadata": {},
   "outputs": [
    {
     "data": {
      "image/png": "[encoded data removed]",
      "text/plain": [
       "<Figure size 720x360 with 1 Axes>"
      ]
     },
     "metadata": {},
     "output_type": "display_data"
    }
   ],
   "source": [
    "def scatter_plot(ycol): \n",
    "    colors = {1: 'green', 0: 'red'}\n",
    "    f, ax = plt.subplots(figsize=(10,5))\n",
    "    plt.scatter(merged['geo'], ycol, c=merged.developed.map(colors))\n",
    "    plt.xlabel(\"Countries\")\n",
    "    ax.set_xticklabels([])\n",
    "    green_patch = mpatches.Patch(color='green', label='Dev')\n",
    "    red_patch = mpatches.Patch(color='red', label='Rest')\n",
    "    patches = [green_patch, red_patch]\n",
    "    legend = ax.legend(handles=patches,loc='upper right')\n",
    "    \n",
    "scatter_plot(merged['share_ratio'])\n",
    "plt.ylabel(\"Government/Private Health Share\")\n",
    "plt.title ('% ratios of government to private healthcare contribution (Dev vs Rest)')\n",
    "plt.show();"
   ]
  },
  {
   "cell_type": "markdown",
   "metadata": {},
   "source": [
    "The government and private sectors share the expenditure in different countries. The extent or ratio of the 2 types of contributions vary between the countries. Let us look at how the variation is between developed countries with a high GDP, and the rest. "
   ]
  },
  {
   "cell_type": "markdown",
   "metadata": {},
   "source": [
    "### Q3. Is the government contribution (percentage and per person) higher in the developed countries?\n",
    " "
   ]
  },
  {
   "cell_type": "code",
   "execution_count": 68,
   "metadata": {},
   "outputs": [
    {
     "data": {
      "image/png": "[encoded data removed]",
      "text/plain": [
       "<Figure size 720x360 with 1 Axes>"
      ]
     },
     "metadata": {},
     "output_type": "display_data"
    }
   ],
   "source": [
    "# Plot the means of percentage healthcare contributions by the governments, sorted by developed versus rest of the countries.\n",
    "# Function to draw a barplot with errorbars.\n",
    "def newplot(ycol):\n",
    "    f, ax = plt.subplots(figsize=(10,5))\n",
    "    dev = (ycol[merged['developed']==1]).mean()\n",
    "    deverr = (ycol[merged['developed']==1]).sem() \n",
    "    rest = (ycol[merged['developed']==0]).mean()\n",
    "    resterr = (ycol[merged['developed']==0]).sem()\n",
    "    err = (deverr, resterr)\n",
    "    locations = ['Dev', 'Rest']\n",
    "    heights = [dev, rest]\n",
    "    plt.bar(locations, heights, yerr = err)\n",
    "    plt.xlabel('Countries')\n",
    "newplot(merged.share_ratio)\n",
    "plt.ylabel('Ratio of % Govt to Private healthcare contribution')\n",
    "plt.title('Average health care contribution by the governments')\n",
    "plt.show();\n"
   ]
  },
  {
   "cell_type": "code",
   "execution_count": 69,
   "metadata": {},
   "outputs": [],
   "source": [
    "# To plot the per person governmental input, calculate the mean governmental per person appending for each country, over the years.\n",
    "col_mean('mean_gov_person', gov_per_person)"
   ]
  },
  {
   "cell_type": "code",
   "execution_count": 70,
   "metadata": {},
   "outputs": [
    {
     "data": {
      "text/html": [
       "<div>\n",
       "<style scoped>\n",
       "    .dataframe tbody tr th:only-of-type {\n",
       "        vertical-align: middle;\n",
       "    }\n",
       "\n",
       "    .dataframe tbody tr th {\n",
       "        vertical-align: top;\n",
       "    }\n",
       "\n",
       "    .dataframe thead th {\n",
       "        text-align: right;\n",
       "    }\n",
       "</style>\n",
       "<table border=\"1\" class=\"dataframe\">\n",
       "  <thead>\n",
       "    <tr style=\"text-align: right;\">\n",
       "      <th></th>\n",
       "      <th>geo</th>\n",
       "      <th>mean_gov</th>\n",
       "      <th>mean_private</th>\n",
       "      <th>share_ratio</th>\n",
       "      <th>developed</th>\n",
       "      <th>mean_gov_person</th>\n",
       "    </tr>\n",
       "  </thead>\n",
       "  <tbody>\n",
       "    <tr>\n",
       "      <th>0</th>\n",
       "      <td>Albania</td>\n",
       "      <td>39.70000</td>\n",
       "      <td>60.30000</td>\n",
       "      <td>0.658375</td>\n",
       "      <td>0</td>\n",
       "      <td>133.95625</td>\n",
       "    </tr>\n",
       "    <tr>\n",
       "      <th>1</th>\n",
       "      <td>Algeria</td>\n",
       "      <td>75.76250</td>\n",
       "      <td>24.22500</td>\n",
       "      <td>3.127451</td>\n",
       "      <td>0</td>\n",
       "      <td>180.06250</td>\n",
       "    </tr>\n",
       "    <tr>\n",
       "      <th>2</th>\n",
       "      <td>Andorra</td>\n",
       "      <td>68.35000</td>\n",
       "      <td>31.66250</td>\n",
       "      <td>2.158705</td>\n",
       "      <td>0</td>\n",
       "      <td>1626.68750</td>\n",
       "    </tr>\n",
       "    <tr>\n",
       "      <th>3</th>\n",
       "      <td>Angola</td>\n",
       "      <td>80.00625</td>\n",
       "      <td>19.98125</td>\n",
       "      <td>4.004066</td>\n",
       "      <td>0</td>\n",
       "      <td>79.52500</td>\n",
       "    </tr>\n",
       "    <tr>\n",
       "      <th>4</th>\n",
       "      <td>Antigua and Barbuda</td>\n",
       "      <td>66.40625</td>\n",
       "      <td>33.59375</td>\n",
       "      <td>1.976744</td>\n",
       "      <td>0</td>\n",
       "      <td>454.56250</td>\n",
       "    </tr>\n",
       "  </tbody>\n",
       "</table>\n",
       "</div>"
      ],
      "text/plain": [
       "                   geo  mean_gov  mean_private  share_ratio  developed  \\\n",
       "0              Albania  39.70000      60.30000     0.658375          0   \n",
       "1              Algeria  75.76250      24.22500     3.127451          0   \n",
       "2              Andorra  68.35000      31.66250     2.158705          0   \n",
       "3               Angola  80.00625      19.98125     4.004066          0   \n",
       "4  Antigua and Barbuda  66.40625      33.59375     1.976744          0   \n",
       "\n",
       "   mean_gov_person  \n",
       "0        133.95625  \n",
       "1        180.06250  \n",
       "2       1626.68750  \n",
       "3         79.52500  \n",
       "4        454.56250  "
      ]
     },
     "execution_count": 70,
     "metadata": {},
     "output_type": "execute_result"
    }
   ],
   "source": [
    "# Merge the gov_per_person expenditure into the main dataframe, retaining the country and mean columns only.\n",
    "dfmerge(merged, gov_per_person, 'mean_gov_person')\n",
    "#merged.info()\n",
    "merged.head()"
   ]
  },
  {
   "cell_type": "code",
   "execution_count": 71,
   "metadata": {},
   "outputs": [
    {
     "data": {
      "image/png": "[encoded data removed]",
      "text/plain": [
       "<Figure size 720x360 with 1 Axes>"
      ]
     },
     "metadata": {},
     "output_type": "display_data"
    }
   ],
   "source": [
    "# Plot the per_person healthcare contributions by the governments, sorted by developed versus rest of the countries.\n",
    "newplot(merged.mean_gov_person)\n",
    "plt.ylabel('Govt per-person healthcare contribution ($)')\n",
    "plt.title('Average per-person health care contribution by the governments');\n"
   ]
  },
  {
   "cell_type": "code",
   "execution_count": 72,
   "metadata": {},
   "outputs": [
    {
     "data": {
      "image/png": "[encoded data removed]",
      "text/plain": [
       "<Figure size 720x360 with 1 Axes>"
      ]
     },
     "metadata": {},
     "output_type": "display_data"
    }
   ],
   "source": [
    "scatter_plot(merged['mean_gov_person'])\n",
    "plt.ylabel(\"Expediture in $\")\n",
    "plt.title ('Government expenditure per person (Dev vs Rest)')\n",
    "plt.show();"
   ]
  },
  {
   "cell_type": "markdown",
   "metadata": {},
   "source": [
    "The government expenditure compared to the contribution by private sectors is higher in the developed countries. The per_person governmental contribution is considerably higher in the developed coountries compared to the rest of the countries. "
   ]
  },
  {
   "cell_type": "code",
   "execution_count": 73,
   "metadata": {},
   "outputs": [
    {
     "data": {
      "text/plain": [
       "geo                96\n",
       "mean_gov           96\n",
       "mean_private       96\n",
       "share_ratio        96\n",
       "developed          96\n",
       "mean_gov_person    96\n",
       "dtype: int64"
      ]
     },
     "execution_count": 73,
     "metadata": {},
     "output_type": "execute_result"
    }
   ],
   "source": [
    "merged.query('developed == 1 & mean_gov_person >= 400').count()\n",
    "merged.query('developed == 0 & mean_gov_person < 200').count()"
   ]
  },
  {
   "cell_type": "markdown",
   "metadata": {},
   "source": [
    "#### Is it possible to create a supervised learning model to classify the countries based on this data?"
   ]
  },
  {
   "cell_type": "code",
   "execution_count": 74,
   "metadata": {},
   "outputs": [
    {
     "data": {
      "text/plain": [
       "(127, 3)"
      ]
     },
     "execution_count": 74,
     "metadata": {},
     "output_type": "execute_result"
    }
   ],
   "source": [
    "# Since the number of developed countries is , I selected the rest countries with mean_gov_person expenditure less than $200, along with the developed countries to create a toy dataset. \n",
    "# ml_df = merged[((merged['developed'] == 1) & (merged['mean_gov_person'] >= 300) | (merged['developed'] == 0) & (merged['mean_gov_person'] < 200))][['mean_gov_person', 'share_ratio', 'developed']]\n",
    "ml_df = merged[((merged['developed'] == 1) | ((merged['developed'] == 0) & (merged['mean_gov_person'] < 200)))][['mean_gov_person', 'share_ratio', 'developed']]\n",
    "ml_df.shape"
   ]
  },
  {
   "cell_type": "code",
   "execution_count": 75,
   "metadata": {},
   "outputs": [
    {
     "data": {
      "text/html": [
       "<div>\n",
       "<style scoped>\n",
       "    .dataframe tbody tr th:only-of-type {\n",
       "        vertical-align: middle;\n",
       "    }\n",
       "\n",
       "    .dataframe tbody tr th {\n",
       "        vertical-align: top;\n",
       "    }\n",
       "\n",
       "    .dataframe thead th {\n",
       "        text-align: right;\n",
       "    }\n",
       "</style>\n",
       "<table border=\"1\" class=\"dataframe\">\n",
       "  <thead>\n",
       "    <tr style=\"text-align: right;\">\n",
       "      <th></th>\n",
       "      <th>mean_gov_person</th>\n",
       "      <th>share_ratio</th>\n",
       "      <th>developed</th>\n",
       "    </tr>\n",
       "  </thead>\n",
       "  <tbody>\n",
       "    <tr>\n",
       "      <th>0</th>\n",
       "      <td>133.95625</td>\n",
       "      <td>0.658375</td>\n",
       "      <td>0</td>\n",
       "    </tr>\n",
       "    <tr>\n",
       "      <th>1</th>\n",
       "      <td>180.06250</td>\n",
       "      <td>3.127451</td>\n",
       "      <td>0</td>\n",
       "    </tr>\n",
       "    <tr>\n",
       "      <th>3</th>\n",
       "      <td>79.52500</td>\n",
       "      <td>4.004066</td>\n",
       "      <td>0</td>\n",
       "    </tr>\n",
       "    <tr>\n",
       "      <th>6</th>\n",
       "      <td>53.53750</td>\n",
       "      <td>0.456225</td>\n",
       "      <td>0</td>\n",
       "    </tr>\n",
       "    <tr>\n",
       "      <th>7</th>\n",
       "      <td>1741.87500</td>\n",
       "      <td>2.021907</td>\n",
       "      <td>1</td>\n",
       "    </tr>\n",
       "  </tbody>\n",
       "</table>\n",
       "</div>"
      ],
      "text/plain": [
       "   mean_gov_person  share_ratio  developed\n",
       "0        133.95625     0.658375          0\n",
       "1        180.06250     3.127451          0\n",
       "3         79.52500     4.004066          0\n",
       "6         53.53750     0.456225          0\n",
       "7       1741.87500     2.021907          1"
      ]
     },
     "execution_count": 75,
     "metadata": {},
     "output_type": "execute_result"
    }
   ],
   "source": [
    "ml_df.head()"
   ]
  },
  {
   "cell_type": "code",
   "execution_count": 76,
   "metadata": {},
   "outputs": [],
   "source": [
    "# Function to standardize the columns\n",
    "from sklearn.preprocessing import *\n",
    "def norm(col): \n",
    "    x = np.array(col).astype(float)\n",
    "    X = pd.DataFrame(x)\n",
    "    y = StandardScaler().fit(X).transform(X)\n",
    "    return y\n",
    "# Normalize the share_ratio column\n",
    "col = ml_df['share_ratio']\n",
    "ml_df['share_ratio'] = norm(col)"
   ]
  },
  {
   "cell_type": "code",
   "execution_count": 77,
   "metadata": {},
   "outputs": [
    {
     "data": {
      "text/html": [
       "<div>\n",
       "<style scoped>\n",
       "    .dataframe tbody tr th:only-of-type {\n",
       "        vertical-align: middle;\n",
       "    }\n",
       "\n",
       "    .dataframe tbody tr th {\n",
       "        vertical-align: top;\n",
       "    }\n",
       "\n",
       "    .dataframe thead th {\n",
       "        text-align: right;\n",
       "    }\n",
       "</style>\n",
       "<table border=\"1\" class=\"dataframe\">\n",
       "  <thead>\n",
       "    <tr style=\"text-align: right;\">\n",
       "      <th></th>\n",
       "      <th>mean_gov_person</th>\n",
       "      <th>share_ratio</th>\n",
       "      <th>developed</th>\n",
       "    </tr>\n",
       "  </thead>\n",
       "  <tbody>\n",
       "    <tr>\n",
       "      <th>0</th>\n",
       "      <td>-0.426869</td>\n",
       "      <td>-0.598843</td>\n",
       "      <td>0</td>\n",
       "    </tr>\n",
       "    <tr>\n",
       "      <th>1</th>\n",
       "      <td>-0.371423</td>\n",
       "      <td>0.663309</td>\n",
       "      <td>0</td>\n",
       "    </tr>\n",
       "    <tr>\n",
       "      <th>3</th>\n",
       "      <td>-0.492327</td>\n",
       "      <td>1.111421</td>\n",
       "      <td>0</td>\n",
       "    </tr>\n",
       "    <tr>\n",
       "      <th>6</th>\n",
       "      <td>-0.523579</td>\n",
       "      <td>-0.702179</td>\n",
       "      <td>0</td>\n",
       "    </tr>\n",
       "    <tr>\n",
       "      <th>7</th>\n",
       "      <td>1.506773</td>\n",
       "      <td>0.098173</td>\n",
       "      <td>1</td>\n",
       "    </tr>\n",
       "  </tbody>\n",
       "</table>\n",
       "</div>"
      ],
      "text/plain": [
       "   mean_gov_person  share_ratio  developed\n",
       "0        -0.426869    -0.598843          0\n",
       "1        -0.371423     0.663309          0\n",
       "3        -0.492327     1.111421          0\n",
       "6        -0.523579    -0.702179          0\n",
       "7         1.506773     0.098173          1"
      ]
     },
     "execution_count": 77,
     "metadata": {},
     "output_type": "execute_result"
    }
   ],
   "source": [
    "# Normalize the mean_gov_person column\n",
    "col = ml_df['mean_gov_person']\n",
    "ml_df['mean_gov_person'] = norm(col)\n",
    "ml_df.head()"
   ]
  },
  {
   "cell_type": "code",
   "execution_count": 78,
   "metadata": {},
   "outputs": [
    {
     "name": "stderr",
     "output_type": "stream",
     "text": [
      "/home/renjini/anaconda3/envs/data/lib/python3.7/site-packages/sklearn/linear_model/logistic.py:432: FutureWarning: Default solver will be changed to 'lbfgs' in 0.22. Specify a solver to silence this warning.\n",
      "  FutureWarning)\n"
     ]
    }
   ],
   "source": [
    "# Use a logistic regression algorithm to train and test the data\n",
    "X = ml_df[['mean_gov_person', 'share_ratio']]\n",
    "y = ml_df['developed']\n",
    "X_train, X_test, y_train, y_test = train_test_split(X, y, test_size = 0.50)\n",
    "clf = LogisticRegression()\n",
    "clf.fit(X_train, y_train)\n",
    "y_preds = clf.predict(X_test)"
   ]
  },
  {
   "cell_type": "code",
   "execution_count": 79,
   "metadata": {},
   "outputs": [
    {
     "name": "stdout",
     "output_type": "stream",
     "text": [
      "Precision_score = 0.89\n",
      "Recall_score = 0.89\n",
      "Accuracy_score = 0.94\n",
      "Confusion_matrix:  \n",
      "[[44  2]\n",
      " [ 2 16]]\n"
     ]
    }
   ],
   "source": [
    "# Check the statistical performance of the algorithm\n",
    "print(\"Precision_score = %.2f\" % precision_score(y_test, y_preds))\n",
    "print(\"Recall_score = %.2f\" % recall_score(y_test, y_preds))\n",
    "print(\"Accuracy_score = %.2f\" % accuracy_score(y_test, y_preds))\n",
    "print(\"Confusion_matrix:  \")\n",
    "print(confusion_matrix(y_test, y_preds))"
   ]
  },
  {
   "cell_type": "markdown",
   "metadata": {},
   "source": [
    "### Of the total government expenditure, does the healthcare cost differ between developed countries and the rest? Has it changed over the years?"
   ]
  },
  {
   "cell_type": "code",
   "execution_count": 80,
   "metadata": {},
   "outputs": [],
   "source": [
    "# Calculate the mean governmental expenditure (as a percent of total government expediture), appending for each country, over the years.\n",
    "col_mean('mean_gov_expenditure', gov_expenditure )"
   ]
  },
  {
   "cell_type": "code",
   "execution_count": 81,
   "metadata": {},
   "outputs": [
    {
     "data": {
      "text/html": [
       "<div>\n",
       "<style scoped>\n",
       "    .dataframe tbody tr th:only-of-type {\n",
       "        vertical-align: middle;\n",
       "    }\n",
       "\n",
       "    .dataframe tbody tr th {\n",
       "        vertical-align: top;\n",
       "    }\n",
       "\n",
       "    .dataframe thead th {\n",
       "        text-align: right;\n",
       "    }\n",
       "</style>\n",
       "<table border=\"1\" class=\"dataframe\">\n",
       "  <thead>\n",
       "    <tr style=\"text-align: right;\">\n",
       "      <th></th>\n",
       "      <th>geo</th>\n",
       "      <th>mean_gov</th>\n",
       "      <th>mean_private</th>\n",
       "      <th>share_ratio</th>\n",
       "      <th>developed</th>\n",
       "      <th>mean_gov_person</th>\n",
       "      <th>mean_gov_expenditure</th>\n",
       "    </tr>\n",
       "  </thead>\n",
       "  <tbody>\n",
       "    <tr>\n",
       "      <th>0</th>\n",
       "      <td>Albania</td>\n",
       "      <td>39.70000</td>\n",
       "      <td>60.30000</td>\n",
       "      <td>0.658375</td>\n",
       "      <td>0</td>\n",
       "      <td>133.95625</td>\n",
       "      <td>7.635000</td>\n",
       "    </tr>\n",
       "    <tr>\n",
       "      <th>1</th>\n",
       "      <td>Algeria</td>\n",
       "      <td>75.76250</td>\n",
       "      <td>24.22500</td>\n",
       "      <td>3.127451</td>\n",
       "      <td>0</td>\n",
       "      <td>180.06250</td>\n",
       "      <td>8.878125</td>\n",
       "    </tr>\n",
       "    <tr>\n",
       "      <th>2</th>\n",
       "      <td>Andorra</td>\n",
       "      <td>68.35000</td>\n",
       "      <td>31.66250</td>\n",
       "      <td>2.158705</td>\n",
       "      <td>0</td>\n",
       "      <td>1626.68750</td>\n",
       "      <td>22.068750</td>\n",
       "    </tr>\n",
       "    <tr>\n",
       "      <th>3</th>\n",
       "      <td>Angola</td>\n",
       "      <td>80.00625</td>\n",
       "      <td>19.98125</td>\n",
       "      <td>4.004066</td>\n",
       "      <td>0</td>\n",
       "      <td>79.52500</td>\n",
       "      <td>4.877500</td>\n",
       "    </tr>\n",
       "    <tr>\n",
       "      <th>4</th>\n",
       "      <td>Antigua and Barbuda</td>\n",
       "      <td>66.40625</td>\n",
       "      <td>33.59375</td>\n",
       "      <td>1.976744</td>\n",
       "      <td>0</td>\n",
       "      <td>454.56250</td>\n",
       "      <td>10.926250</td>\n",
       "    </tr>\n",
       "  </tbody>\n",
       "</table>\n",
       "</div>"
      ],
      "text/plain": [
       "                   geo  mean_gov  mean_private  share_ratio  developed  \\\n",
       "0              Albania  39.70000      60.30000     0.658375          0   \n",
       "1              Algeria  75.76250      24.22500     3.127451          0   \n",
       "2              Andorra  68.35000      31.66250     2.158705          0   \n",
       "3               Angola  80.00625      19.98125     4.004066          0   \n",
       "4  Antigua and Barbuda  66.40625      33.59375     1.976744          0   \n",
       "\n",
       "   mean_gov_person  mean_gov_expenditure  \n",
       "0        133.95625              7.635000  \n",
       "1        180.06250              8.878125  \n",
       "2       1626.68750             22.068750  \n",
       "3         79.52500              4.877500  \n",
       "4        454.56250             10.926250  "
      ]
     },
     "execution_count": 81,
     "metadata": {},
     "output_type": "execute_result"
    }
   ],
   "source": [
    "# Merge the gov_expenditure into the main dataframe, retaining the country and mean columns only.\n",
    "dfmerge(merged, gov_expenditure, 'mean_gov_expenditure')\n",
    "# merged.info()\n",
    "merged.head()"
   ]
  },
  {
   "cell_type": "code",
   "execution_count": 82,
   "metadata": {},
   "outputs": [
    {
     "data": {
      "image/png": "[encoded data removed]",
      "text/plain": [
       "<Figure size 720x360 with 1 Axes>"
      ]
     },
     "metadata": {},
     "output_type": "display_data"
    }
   ],
   "source": [
    "# Plot the mean governmental expenditure (as a percent of total government expediture), sorted by developed versus rest of the countries.\n",
    "newplot(merged.mean_gov_expenditure)\n",
    "plt.ylabel('Govt healthcare expenditure (% of total)')\n",
    "plt.title('Average health care contribution (% of total expenditure) by the governments');\n"
   ]
  },
  {
   "cell_type": "markdown",
   "metadata": {},
   "source": [
    "Even though there is a trend for increase in the percentage invested in healthcare compared to total government expenditure for the developed countries, the change is by a small factor (14% in developed and 11% in the rest). "
   ]
  },
  {
   "cell_type": "markdown",
   "metadata": {},
   "source": [
    "<a id='conclusions'></a>\n",
    "## Conclusions\n",
    "\n",
    "The mean global contribution by the different national governments towards health care has not changed much in the 16 years analyzed. In all countries, the government and the private sector share the healthcare costs. I found that the countries with a higher GDP have a higher contribution by the governments, when compared to the rest of the world. Average per person contribution in dollars is also considerably higher in the developed countries. The governement/private share ratio and the governemental per person expenditure could be used to classify the test set of countries as developed and rest. Analysis of the percentage spent by the national governments in healthcare compared to total expenditure, I found that the averages did not differ much between the developed countries and the rest of the world. This implies that while comparatively the developed national governments spend more absolute money on healthcare, the rest of the world spends a near equal percentage of total expenditure on healthcare. I created a toy dataset consisting of countries with government-per-person expenditure less than $200, along with the developed countries. Using logistic regression, I found that the supervised learning model based on the governement/private share-ratio and governement-per-person expenditure attributes, could classify the countries into developed and rest with an accuracy of approximately 95%. \n"
   ]
  },
  {
   "cell_type": "markdown",
   "metadata": {},
   "source": [
    "## Limitations\n",
    "\n",
    "Further statistical analyses using significance tests (T-tests or ANOVA) is required to define the statistical significance of the findings. The GDP or economic status of the countries are not available. It would have been more useful for this type of an analysis if the rest countries could be sorted into those with median (developing), low (undeveloped) or very low (underdeveloped) GDP. There were missing data for some countries, which were excluded from analyses. Hence, this is not a complete representation of the world. If the data were available until the latest update (last year), it would have been a better representation of the current global situation. \n",
    "\n"
   ]
  },
  {
   "cell_type": "code",
   "execution_count": null,
   "metadata": {},
   "outputs": [],
   "source": []
  }
 ],
 "metadata": {
  "kernelspec": {
   "display_name": "Python [default]",
   "language": "python",
   "name": "python3"
  },
  "language_info": {
   "codemirror_mode": {
    "name": "ipython",
    "version": 3
   },
   "file_extension": ".py",
   "mimetype": "text/x-python",
   "name": "python",
   "nbconvert_exporter": "python",
   "pygments_lexer": "ipython3",
   "version": "3.7.0"
  }
 },
 "nbformat": 4,
 "nbformat_minor": 2
}
